{
 "cells": [
  {
   "cell_type": "markdown",
   "id": "a5a8b1ad",
   "metadata": {},
   "source": [
    "# Processing Queries\n",
    "\n",
    "### 1) Reading a configuration file\n",
    "\n",
    "At this point the module will read into a '.cfg' file containing the names of three files that will be used. Only the first need to be provided, the other two are going to be created by the module.\n",
    "The files format are:\n",
    "\n",
    "* XML file for reading (provided)\n",
    "* CSV file with the queries (created)\n",
    "* CSV file with the results (created)"
   ]
  },
  {
   "cell_type": "code",
   "execution_count": 1,
   "id": "634c3255",
   "metadata": {},
   "outputs": [],
   "source": [
    "read_file = \"\"\n",
    "queries_file = \"../data/\"\n",
    "results_file = \"../results/\"\n",
    "\n",
    "with open(\"../data/pc.cfg\", \"r\") as config_file:\n",
    "    for line in config_file.readlines():\n",
    "        instruction, filename = line.split(\"=\")\n",
    "        filename = filename.strip()\n",
    "        \n",
    "        if instruction == \"LEIA\":\n",
    "            read_file += filename\n",
    "        elif instruction == \"CONSULTAS\":\n",
    "            queries_file += filename\n",
    "        elif instruction == \"ESPERADOS\":\n",
    "            results_file += filename"
   ]
  },
  {
   "cell_type": "markdown",
   "id": "93a2f69d",
   "metadata": {},
   "source": [
    "### 2) Reading the XML file"
   ]
  },
  {
   "cell_type": "code",
   "execution_count": 2,
   "id": "1ed1bb4a",
   "metadata": {},
   "outputs": [],
   "source": [
    "from xml.etree import ElementTree as ET\n",
    "import os\n",
    "\n",
    "\n",
    "path = os.path.join(\"../data/CysticFibrosis/\", read_file)\n",
    "xml_file = ET.parse(path)\n",
    "xml_root = xml_file.getroot()"
   ]
  },
  {
   "cell_type": "markdown",
   "id": "328ef03f",
   "metadata": {},
   "source": [
    "### 3) Generating files\n",
    "\n",
    "O caractere de separação será o ponto e vírgula ;\n",
    "A primeira linha do arquivo csv será com os cabeçalhos\n",
    "\n",
    "O primeiro a ser gerado é o arquivo de consultas"
   ]
  },
  {
   "cell_type": "code",
   "execution_count": 3,
   "id": "076b8568",
   "metadata": {},
   "outputs": [],
   "source": [
    "with open(queries_file, 'w') as queries:\n",
    "    queries.write(\"QueryNumber;QueryText\\n\")\n",
    "    \n",
    "    for query in xml_root:\n",
    "        query_number = \"\"\n",
    "        query_text = \"\"\n",
    "        for element in query:\n",
    "            if element.tag == \"QueryNumber\":\n",
    "                query_number = int(element.text)\n",
    "            elif element.tag == \"QueryText\":\n",
    "                query_text = element.text.upper()\n",
    "                query_text = query_text.replace('\\n  ', '')\n",
    "                query_text = query_text.replace(';', '')\n",
    "        queries.write(f\"{query_number};{query_text}\")"
   ]
  },
  {
   "cell_type": "code",
   "execution_count": 4,
   "id": "c4b09835",
   "metadata": {},
   "outputs": [],
   "source": [
    "with open(results_file, 'w') as results:\n",
    "    results.write(\"QueryNumber;DocNumber;DocVotes\\n\")\n",
    "    \n",
    "    for query in xml_root:\n",
    "        query_number = \"\"\n",
    "        for element in query:\n",
    "            if element.tag == \"QueryNumber\":\n",
    "                query_number = int(element.text)\n",
    "            elif element.tag == \"Records\":\n",
    "                for item in element:\n",
    "                    doc_number = int(item.text)\n",
    "                    score = item.attrib['score'].replace('0', '')\n",
    "                    doc_votes = len(score)\n",
    "                    results.write(f\"{query_number};{doc_number};{doc_votes}\\n\")"
   ]
  },
  {
   "cell_type": "code",
   "execution_count": null,
   "id": "3b151c40",
   "metadata": {},
   "outputs": [],
   "source": []
  }
 ],
 "metadata": {
  "kernelspec": {
   "display_name": "Python 3 (ipykernel)",
   "language": "python",
   "name": "python3"
  },
  "language_info": {
   "codemirror_mode": {
    "name": "ipython",
    "version": 3
   },
   "file_extension": ".py",
   "mimetype": "text/x-python",
   "name": "python",
   "nbconvert_exporter": "python",
   "pygments_lexer": "ipython3",
   "version": "3.11.3"
  }
 },
 "nbformat": 4,
 "nbformat_minor": 5
}
