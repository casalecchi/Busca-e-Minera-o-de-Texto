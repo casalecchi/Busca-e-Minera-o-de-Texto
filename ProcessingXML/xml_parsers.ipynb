{
 "cells": [
  {
   "cell_type": "code",
   "execution_count": 40,
   "id": "8ff19059",
   "metadata": {},
   "outputs": [],
   "source": [
    "# Usando o processador de xml DOM\n",
    "from xml.dom import minidom\n",
    "\n",
    "# Primeiro carregamos o arquivo .xml\n",
    "dom_xml = minidom.parse('../data/CysticFibrosis/cf79.xml')\n",
    "\n",
    "# Depois pegamos todos os elementos com a tag \"AUTHOR\"\n",
    "authors = dom_xml.getElementsByTagName('AUTHOR')\n",
    "\n",
    "# Então criamos o arquivo de saída 'autores.xml'\n",
    "with open('autores.xml', 'w') as new_file:\n",
    "    \n",
    "    # Iteramos a lista de autores e escrevemos cada um em uma nova linha\n",
    "    for author in authors:\n",
    "        new_file.write(author.toxml())"
   ]
  },
  {
   "cell_type": "code",
   "execution_count": 39,
   "id": "7fbbd73e",
   "metadata": {},
   "outputs": [],
   "source": [
    "# Usando o processador de xml SAX\n",
    "from xml import sax\n",
    "\n",
    "# Primeiro devemos criar um handler customizado para que o parser execute os comandos necessários\n",
    "class TitleHandler(sax.ContentHandler):\n",
    "    \n",
    "    # A primeira função é quando um novo elemento é analizado. Determinamos a propriedade 'current'\n",
    "    # para ser igual ao nome do elemento.\n",
    "    def startElement(self, name, attrs):\n",
    "        self.current = name\n",
    "    \n",
    "    # Depois de ter o nome do elemento, analisamos o que está dentro dele, portanto aqui foi feita\n",
    "    # a lógica de verificar se o elemento é do tipo TITLE que estamos interessados. Caso seja, a propriedade\n",
    "    # 'title' é populada com o conteúdo que está no elemento atualmente.\n",
    "    def characters(self, content):\n",
    "        if self.current == \"TITLE\":\n",
    "            self.title += content\n",
    "    \n",
    "    # Essa função é chamada quando a tag do elemento será fechada.\n",
    "    def endElement(self, name):\n",
    "        if self.current == \"TITLE\":\n",
    "            # Caso o elemento seja o de interesse (TITLE) iremos fazer um arquivo contendo todos os \n",
    "            # títulos que foram obtidos na função 'characters' por meio da propriedade 'title'. Uma\n",
    "            # manipulação de string é feita para que os títulos fiquem na mesma linha e que eles tenham\n",
    "            # a tag TITLE no documento xml.\n",
    "            with open('titulo.xml', 'a') as new_file:\n",
    "                title_string = self.title.replace(\"\\n\", \" \")\n",
    "                new_file.write(\"<TITLE>\" + title_string + \"</TITLE>\\n\")\n",
    "        \n",
    "        # Como esse elemento já foi analisado, podemos setar a propriedade title para uma string vazia\n",
    "        # para que o próximo título possa ser preenchido sem erros.\n",
    "        self.title = \"\"\n",
    "\n",
    "\n",
    "# Agora então criamos uma instância do nosso handler\n",
    "handler = TitleHandler()\n",
    "\n",
    "# Criamos uma instância do parser da biblioteca\n",
    "parser = sax.make_parser()\n",
    "\n",
    "# Setamos o handler para ser usado no parser\n",
    "parser.setContentHandler(handler)\n",
    "\n",
    "# E por fim, realizamos o parse do arquivo .xml\n",
    "parser.parse('../data/CysticFibrosis/cf79.xml')"
   ]
  }
 ],
 "metadata": {
  "kernelspec": {
   "display_name": "Python 3 (ipykernel)",
   "language": "python",
   "name": "python3"
  },
  "language_info": {
   "codemirror_mode": {
    "name": "ipython",
    "version": 3
   },
   "file_extension": ".py",
   "mimetype": "text/x-python",
   "name": "python",
   "nbconvert_exporter": "python",
   "pygments_lexer": "ipython3",
   "version": "3.11.3"
  }
 },
 "nbformat": 4,
 "nbformat_minor": 5
}
