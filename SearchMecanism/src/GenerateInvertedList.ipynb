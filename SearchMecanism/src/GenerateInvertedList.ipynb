{
 "cells": [
  {
   "cell_type": "markdown",
   "id": "a373711a",
   "metadata": {},
   "source": [
    "### 1) Reading the configuration file"
   ]
  },
  {
   "cell_type": "code",
   "execution_count": 1,
   "id": "6d84e4fa",
   "metadata": {},
   "outputs": [],
   "source": [
    "import os\n",
    "\n",
    "read_files = []\n",
    "write_file = \"../data/\"\n",
    "\n",
    "with open(\"../data/gli.cfg\", \"r\") as config_file:\n",
    "    for line in config_file.readlines():\n",
    "        instruction, filename = line.split(\"=\")\n",
    "        filename = filename.strip()\n",
    "        \n",
    "        if instruction == \"LEIA\":\n",
    "            file_path = os.path.join(\"../data/CysticFibrosis\", filename)\n",
    "            read_files.append(file_path)\n",
    "        elif instruction == \"ESCREVA\":\n",
    "            write_file += filename"
   ]
  },
  {
   "cell_type": "markdown",
   "id": "24abd479",
   "metadata": {},
   "source": [
    "### 2) Read the XML files"
   ]
  },
  {
   "cell_type": "code",
   "execution_count": 2,
   "id": "16a7ec68",
   "metadata": {},
   "outputs": [],
   "source": [
    "from xml.etree import ElementTree as ET\n",
    "\n",
    "def get_recordnum_text(file):\n",
    "    xml_file = ET.parse(file)\n",
    "    xml_root = xml_file.getroot()\n",
    "    recordnum_text = {}\n",
    "    \n",
    "    for record in xml_root:\n",
    "        text = \"\"\n",
    "        for element in record:\n",
    "            if element.tag == \"RECORDNUM\":\n",
    "                record_num = int(element.text)\n",
    "            elif element.tag == \"ABSTRACT\" or element.tag == \"EXTRACT\":\n",
    "                text = element.text.upper()\n",
    "                text = text.replace(\"\\n\", \"\")\n",
    "                text = text.replace(\";\", \"\")\n",
    "        recordnum_text[record_num] = text\n",
    "    \n",
    "    # Retorna dicionário na forma RecordNum: Texto para cada arquivo passado\n",
    "    return recordnum_text"
   ]
  },
  {
   "cell_type": "code",
   "execution_count": 3,
   "id": "0091eb5f",
   "metadata": {},
   "outputs": [
    {
     "name": "stderr",
     "output_type": "stream",
     "text": [
      "[nltk_data] Downloading package punkt to\n",
      "[nltk_data]     /Users/casalecchi/nltk_data...\n",
      "[nltk_data]   Package punkt is already up-to-date!\n",
      "[nltk_data] Downloading package stopwords to\n",
      "[nltk_data]     /Users/casalecchi/nltk_data...\n",
      "[nltk_data]   Package stopwords is already up-to-date!\n"
     ]
    },
    {
     "data": {
      "text/plain": [
       "True"
      ]
     },
     "execution_count": 3,
     "metadata": {},
     "output_type": "execute_result"
    }
   ],
   "source": [
    "import nltk\n",
    "nltk.download('punkt')\n",
    "nltk.download('stopwords')"
   ]
  },
  {
   "cell_type": "code",
   "execution_count": 4,
   "id": "e4fed46d",
   "metadata": {},
   "outputs": [],
   "source": [
    "from nltk.tokenize import word_tokenize\n",
    "from nltk.corpus import stopwords\n",
    "\n",
    "def preproccess_text(text):\n",
    "    tokens = word_tokenize(text)\n",
    "    stop_en = stopwords.words(\"english\")\n",
    "    filtered_text = [w for w in tokens if not w.lower() in stop_en]\n",
    "    \n",
    "    # Pega um texto, tokeniza e remove as stopwords\n",
    "    return filtered_text"
   ]
  },
  {
   "cell_type": "code",
   "execution_count": 5,
   "id": "9a4ac14b",
   "metadata": {},
   "outputs": [],
   "source": [
    "def word_frequency(text, record_num):\n",
    "    tokenized_text = preproccess_text(text)\n",
    "    frequency_dict = {}\n",
    "    for word in tokenized_text:\n",
    "        keys = list(frequency_dict.keys())\n",
    "        if word in keys:\n",
    "            frequency_dict[word].append(record_num)\n",
    "        else:\n",
    "            frequency_dict[word] = [record_num]\n",
    "            \n",
    "    # Retorna um dicionário para o texto passado, com a frequência das palavras\n",
    "    # Palavra: [record_num, record_num, ...]\n",
    "    return frequency_dict"
   ]
  },
  {
   "cell_type": "code",
   "execution_count": 6,
   "id": "847ac729",
   "metadata": {},
   "outputs": [],
   "source": [
    "def get_inverted_list(read_files):\n",
    "    inverted_list = {}\n",
    "    \n",
    "    for file in read_files:\n",
    "        # Faz primeiro o dicionário do arquivo, com os record_num: textos\n",
    "        file_records = get_recordnum_text(file)\n",
    "        file_record_nums = list(file_records.keys())\n",
    "        \n",
    "        # Depois, pega cada record\n",
    "        for record_num in file_record_nums:\n",
    "            # Faz o dicionário de frequência de um record\n",
    "            record_dict = word_frequency(file_records[record_num], record_num)\n",
    "            \n",
    "            # Pegar o dicionário de frequência e juntar no geral\n",
    "            used_tokens = list(record_dict.keys())\n",
    "            \n",
    "            # Atualiza ou cria os tokens presentes no record no dicionário geral\n",
    "            for token in used_tokens:\n",
    "                # Pega o que já tinha, ou [] caso não exista\n",
    "                previous_records = inverted_list.get(token, [])\n",
    "                if previous_records == []:\n",
    "                    # Cria\n",
    "                    inverted_list[token] = record_dict[token]\n",
    "                else:\n",
    "                    #Atualiza\n",
    "                    inverted_list[token] += record_dict[token]\n",
    "    return inverted_list"
   ]
  },
  {
   "cell_type": "code",
   "execution_count": 7,
   "id": "1be4bc54",
   "metadata": {},
   "outputs": [],
   "source": [
    "with open(write_file, 'w') as w_file:\n",
    "    inverted_list = get_inverted_list(read_files)\n",
    "    tokens = list(inverted_list.keys())\n",
    "    w_file.write(\"Token;Appearance\\n\")\n",
    "    for token in tokens:\n",
    "        w_file.write(f\"{token};{inverted_list[token]}\\n\")"
   ]
  }
 ],
 "metadata": {
  "kernelspec": {
   "display_name": "Python 3 (ipykernel)",
   "language": "python",
   "name": "python3"
  },
  "language_info": {
   "codemirror_mode": {
    "name": "ipython",
    "version": 3
   },
   "file_extension": ".py",
   "mimetype": "text/x-python",
   "name": "python",
   "nbconvert_exporter": "python",
   "pygments_lexer": "ipython3",
   "version": "3.11.3"
  }
 },
 "nbformat": 4,
 "nbformat_minor": 5
}
