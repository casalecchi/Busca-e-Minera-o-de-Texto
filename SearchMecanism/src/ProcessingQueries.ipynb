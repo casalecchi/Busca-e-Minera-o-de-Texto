{
 "cells": [
  {
   "cell_type": "markdown",
   "id": "a5a8b1ad",
   "metadata": {},
   "source": [
    "# Processing Queries\n",
    "\n",
    "### 1) Reading a configuration file\n",
    "\n",
    "At this point the module will read into a '.cfg' file containing the names of three files that will be used. Only the first need to be provided, the other two are going to be created by the module.\n",
    "The files format are:\n",
    "\n",
    "* XML file for reading (provided)\n",
    "* CSV file with the queries (created)\n",
    "* CSV file with the results (created)"
   ]
  },
  {
   "cell_type": "code",
   "execution_count": null,
   "id": "f1c6827f",
   "metadata": {},
   "outputs": [],
   "source": [
    "import logging\n",
    "\n",
    "logging.basicConfig(format='%(asctime)s - %(message)s', level=logging.INFO)"
   ]
  },
  {
   "cell_type": "code",
   "execution_count": 13,
   "id": "634c3255",
   "metadata": {},
   "outputs": [],
   "source": [
    "def read_config(config_file):\n",
    "    read_file = \"../data/CysticFibrosis/\"\n",
    "    queries_file = \"../results/\"\n",
    "    expected_file = \"../results/\"\n",
    "    cfg_path = \"../data/\" + config_file\n",
    "\n",
    "    with open(cfg_path, \"r\") as config_file:\n",
    "        for line in config_file.readlines():\n",
    "            instruction, filename = line.split(\"=\")\n",
    "            filename = filename.strip()\n",
    "\n",
    "            if instruction == \"LEIA\":\n",
    "                read_file += filename\n",
    "            elif instruction == \"CONSULTAS\":\n",
    "                queries_file += filename\n",
    "            elif instruction == \"ESPERADOS\":\n",
    "                expected_file += filename\n",
    "                \n",
    "    return (read_file, queries_file, expected_file)"
   ]
  },
  {
   "cell_type": "code",
   "execution_count": 14,
   "id": "11cc39ea",
   "metadata": {},
   "outputs": [],
   "source": [
    "read, queries, expected = read_config(\"pc.cfg\")"
   ]
  },
  {
   "cell_type": "markdown",
   "id": "93a2f69d",
   "metadata": {},
   "source": [
    "### 2) Reading the XML file"
   ]
  },
  {
   "cell_type": "code",
   "execution_count": 15,
   "id": "1ed1bb4a",
   "metadata": {},
   "outputs": [],
   "source": [
    "from xml.etree import ElementTree as ET\n",
    "\n",
    "def get_xml_root(path):\n",
    "    xml_file = ET.parse(path)\n",
    "    xml_root = xml_file.getroot()\n",
    "    return xml_root"
   ]
  },
  {
   "cell_type": "code",
   "execution_count": 16,
   "id": "8f229455",
   "metadata": {},
   "outputs": [],
   "source": [
    "xml_root = get_xml_root(read)"
   ]
  },
  {
   "cell_type": "markdown",
   "id": "328ef03f",
   "metadata": {},
   "source": [
    "### 3) Generating files"
   ]
  },
  {
   "cell_type": "code",
   "execution_count": 17,
   "id": "076b8568",
   "metadata": {},
   "outputs": [],
   "source": [
    "def get_queries_file(path, xml_root):\n",
    "    with open(path, 'w') as queries:\n",
    "        queries.write(\"QueryNumber;QueryText\\n\")\n",
    "\n",
    "        for query in xml_root:\n",
    "            query_number = \"\"\n",
    "            query_text = \"\"\n",
    "            for element in query:\n",
    "                if element.tag == \"QueryNumber\":\n",
    "                    query_number = int(element.text)\n",
    "                elif element.tag == \"QueryText\":\n",
    "                    query_text = element.text.upper()\n",
    "                    query_text = query_text.replace('\\n  ', '')\n",
    "                    query_text = query_text.replace(';', '')\n",
    "            queries.write(f\"{query_number};{query_text}\")"
   ]
  },
  {
   "cell_type": "code",
   "execution_count": 18,
   "id": "4db05484",
   "metadata": {},
   "outputs": [],
   "source": [
    "get_queries_file(queries, xml_root)"
   ]
  },
  {
   "cell_type": "code",
   "execution_count": 19,
   "id": "c4b09835",
   "metadata": {},
   "outputs": [],
   "source": [
    "def get_expected_file(path, xml_root):\n",
    "    with open(path, 'w') as expected:\n",
    "        expected.write(\"QueryNumber;DocNumber;DocVotes\\n\")\n",
    "\n",
    "        for query in xml_root:\n",
    "            query_number = \"\"\n",
    "            for element in query:\n",
    "                if element.tag == \"QueryNumber\":\n",
    "                    query_number = int(element.text)\n",
    "                elif element.tag == \"Records\":\n",
    "                    for item in element:\n",
    "                        doc_number = int(item.text)\n",
    "                        score = item.attrib['score'].replace('0', '')\n",
    "                        doc_votes = len(score)\n",
    "                        expected.write(f\"{query_number};{doc_number};{doc_votes}\\n\")"
   ]
  },
  {
   "cell_type": "code",
   "execution_count": 20,
   "id": "3b151c40",
   "metadata": {},
   "outputs": [],
   "source": [
    "get_expected_file(expected, xml_root)"
   ]
  },
  {
   "cell_type": "code",
   "execution_count": null,
   "id": "d382754f",
   "metadata": {},
   "outputs": [],
   "source": []
  }
 ],
 "metadata": {
  "kernelspec": {
   "display_name": "Python 3 (ipykernel)",
   "language": "python",
   "name": "python3"
  },
  "language_info": {
   "codemirror_mode": {
    "name": "ipython",
    "version": 3
   },
   "file_extension": ".py",
   "mimetype": "text/x-python",
   "name": "python",
   "nbconvert_exporter": "python",
   "pygments_lexer": "ipython3",
   "version": "3.11.3"
  }
 },
 "nbformat": 4,
 "nbformat_minor": 5
}
