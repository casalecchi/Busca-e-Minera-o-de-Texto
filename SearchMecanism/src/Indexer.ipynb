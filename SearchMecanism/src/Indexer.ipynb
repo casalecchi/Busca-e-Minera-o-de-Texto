{
 "cells": [
  {
   "cell_type": "code",
   "execution_count": 1,
   "id": "08b8d0b4",
   "metadata": {},
   "outputs": [],
   "source": [
    "read_file = \"../data/\"\n",
    "write_file = \"../data/\"\n",
    "\n",
    "with open(\"../data/index.cfg\", \"r\") as config_file:\n",
    "    for line in config_file.readlines():\n",
    "        instruction, filename = line.split(\"=\")\n",
    "        filename = filename.strip()\n",
    "        \n",
    "        if instruction == \"LEIA\":\n",
    "            read_file += filename\n",
    "        elif instruction == \"ESCREVA\":\n",
    "            write_file += filename"
   ]
  },
  {
   "cell_type": "markdown",
   "id": "122e16a3",
   "metadata": {},
   "source": [
    "## Definições de termos\n",
    "\n",
    "* N - número total de documentos na coleção\n",
    "* nj - número de documentos que contém um termo j\n",
    "* tf(i,j) - a frequência \"bruta\" de um termo j em um documento i\n",
    "* t - quantidade de termos distintos na coleção"
   ]
  },
  {
   "cell_type": "code",
   "execution_count": 2,
   "id": "5242460a",
   "metadata": {
    "scrolled": true
   },
   "outputs": [],
   "source": [
    "from tqdm.notebook import tqdm, trange\n",
    "import time\n",
    "import pandas as pd\n",
    "import numpy as np\n",
    "\n",
    "def get_term_document_matrix():\n",
    "    inverted_list = pd.read_csv('../data/tokens.csv', sep=';', converters={\"Appearance\": pd.eval})\n",
    "    matrix = pd.DataFrame(inverted_list[\"Token\"])\n",
    "    matrix.set_index([\"Token\"], inplace=True)\n",
    "    shape = (matrix.shape[0], 1)\n",
    "    for token, docs in inverted_list.itertuples(index=False):\n",
    "        for doc in docs:\n",
    "            if str(doc) in matrix.columns:\n",
    "                matrix.at[token, str(doc)] += 1\n",
    "            else:\n",
    "                zeros = pd.DataFrame(np.zeros(shape), index=inverted_list[\"Token\"], columns=[str(doc)])\n",
    "                matrix = pd.concat([matrix, zeros], axis=1)\n",
    "                matrix.at[token, str(doc)] = 1\n",
    "    return matrix"
   ]
  },
  {
   "cell_type": "code",
   "execution_count": 3,
   "id": "f4e4cdf7",
   "metadata": {},
   "outputs": [],
   "source": [
    "def get_n(matrix):\n",
    "    N = len(matrix.columns)\n",
    "    return N"
   ]
  },
  {
   "cell_type": "code",
   "execution_count": 4,
   "id": "04e3e4d6",
   "metadata": {},
   "outputs": [],
   "source": [
    "def get_nj(token, matrix):\n",
    "    row = matrix.loc[token]\n",
    "    return row.astype(bool).sum()  # Tudo que tiver algum valor diferente de zero será 1, \n",
    "                                   # e então somamos todas as colunas"
   ]
  },
  {
   "cell_type": "code",
   "execution_count": 5,
   "id": "fb6b3f29",
   "metadata": {},
   "outputs": [],
   "source": [
    "def get_tf(token, document, matrix):\n",
    "    return int(matrix.loc[token, str(document)])"
   ]
  },
  {
   "cell_type": "code",
   "execution_count": 6,
   "id": "4d120403",
   "metadata": {},
   "outputs": [],
   "source": [
    "def get_tfn(token, document, matrix):\n",
    "    tf = get_tf(token, document, matrix)\n",
    "    biggest_tf = int(matrix.loc[:, str(document)].max())\n",
    "    return tf / biggest_tf"
   ]
  },
  {
   "cell_type": "code",
   "execution_count": 7,
   "id": "3248d8cd",
   "metadata": {},
   "outputs": [],
   "source": [
    "from math import log10\n",
    "\n",
    "def get_idf(token, matrix):\n",
    "    return log10(get_n(matrix) / get_nj(token, matrix))"
   ]
  },
  {
   "cell_type": "code",
   "execution_count": 8,
   "id": "5e612941",
   "metadata": {},
   "outputs": [],
   "source": [
    "def get_wij(token, document, matrix, normalized=True):\n",
    "    if normalized:\n",
    "        tf = get_tf(token, document, matrix)\n",
    "    else:\n",
    "        tf = get_tfn(token, document, matrix)\n",
    "        \n",
    "    wij = tf * get_idf(token, matrix)\n",
    "    return wij"
   ]
  },
  {
   "cell_type": "code",
   "execution_count": 14,
   "id": "eb740376",
   "metadata": {},
   "outputs": [],
   "source": [
    "def get_model(matrix):\n",
    "    weights = matrix.copy()\n",
    "    for token in tqdm(weights.index):\n",
    "        idf = get_idf(token, weights)\n",
    "        for document in weights.columns:\n",
    "            tf = get_tf(token, document, matrix)\n",
    "            wij = tf * idf\n",
    "            weights.loc[token, str(document)] = wij\n",
    "    return weights"
   ]
  },
  {
   "cell_type": "code",
   "execution_count": 10,
   "id": "7cf11768",
   "metadata": {},
   "outputs": [],
   "source": [
    "def save_matrix(path):\n",
    "    matrix = get_term_document_matrix()\n",
    "    matrix.to_csv(path, sep=\";\")"
   ]
  },
  {
   "cell_type": "code",
   "execution_count": 11,
   "id": "39d5a744",
   "metadata": {},
   "outputs": [],
   "source": [
    "save_matrix(\"../data/matriz.csv\")"
   ]
  },
  {
   "cell_type": "code",
   "execution_count": 15,
   "id": "9c129e02",
   "metadata": {},
   "outputs": [],
   "source": [
    "def save_model(path):\n",
    "    matrix = get_term_document_matrix()\n",
    "    model = get_model(matrix)\n",
    "    model.to_csv(path, sep=\";\")"
   ]
  },
  {
   "cell_type": "code",
   "execution_count": 16,
   "id": "c0f7ec84",
   "metadata": {},
   "outputs": [
    {
     "data": {
      "application/vnd.jupyter.widget-view+json": {
       "model_id": "fe039e092dc943b0aa6372316a7e1737",
       "version_major": 2,
       "version_minor": 0
      },
      "text/plain": [
       "  0%|          | 0/6278 [00:00<?, ?it/s]"
      ]
     },
     "metadata": {},
     "output_type": "display_data"
    }
   ],
   "source": [
    "save_model(\"../data/model.csv\")"
   ]
  },
  {
   "cell_type": "code",
   "execution_count": null,
   "id": "f092032b",
   "metadata": {},
   "outputs": [],
   "source": []
  }
 ],
 "metadata": {
  "kernelspec": {
   "display_name": "Python 3 (ipykernel)",
   "language": "python",
   "name": "python3"
  },
  "language_info": {
   "codemirror_mode": {
    "name": "ipython",
    "version": 3
   },
   "file_extension": ".py",
   "mimetype": "text/x-python",
   "name": "python",
   "nbconvert_exporter": "python",
   "pygments_lexer": "ipython3",
   "version": "3.11.3"
  }
 },
 "nbformat": 4,
 "nbformat_minor": 5
}
