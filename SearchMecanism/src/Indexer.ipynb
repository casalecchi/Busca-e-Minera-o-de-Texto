{
 "cells": [
  {
   "cell_type": "code",
   "execution_count": null,
   "id": "84b945bd",
   "metadata": {},
   "outputs": [],
   "source": [
    "read_file = \"../data/\"\n",
    "write_file = \"../data/\"\n",
    "\n",
    "with open(\"../data/index.cfg\", \"r\") as config_file:\n",
    "    for line in config_file.readlines():\n",
    "        instruction, filename = line.split(\"=\")\n",
    "        filename = filename.strip()\n",
    "        \n",
    "        if instruction == \"LEIA\":\n",
    "            read_file += filename\n",
    "        elif instruction == \"ESCREVA\":\n",
    "            write_file += filename"
   ]
  }
 ],
 "metadata": {
  "kernelspec": {
   "display_name": "Python 3 (ipykernel)",
   "language": "python",
   "name": "python3"
  },
  "language_info": {
   "codemirror_mode": {
    "name": "ipython",
    "version": 3
   },
   "file_extension": ".py",
   "mimetype": "text/x-python",
   "name": "python",
   "nbconvert_exporter": "python",
   "pygments_lexer": "ipython3",
   "version": "3.11.3"
  }
 },
 "nbformat": 4,
 "nbformat_minor": 5
}
